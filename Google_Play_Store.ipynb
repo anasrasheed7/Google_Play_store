{
 "cells": [
  {
   "cell_type": "code",
   "execution_count": 1,
   "id": "5ab200a1",
   "metadata": {},
   "outputs": [],
   "source": [
    "from csv import reader"
   ]
  },
  {
   "cell_type": "code",
   "execution_count": 2,
   "id": "9720a371",
   "metadata": {},
   "outputs": [
    {
     "data": {
      "text/plain": [
       "128523"
      ]
     },
     "execution_count": 2,
     "metadata": {},
     "output_type": "execute_result"
    }
   ],
   "source": [
    "ord(\"😋\")"
   ]
  },
  {
   "cell_type": "code",
   "execution_count": 3,
   "id": "7a4ac9c0",
   "metadata": {},
   "outputs": [
    {
     "data": {
      "text/plain": [
       "'😎'"
      ]
     },
     "execution_count": 3,
     "metadata": {},
     "output_type": "execute_result"
    }
   ],
   "source": [
    "chr(128526)"
   ]
  },
  {
   "cell_type": "code",
   "execution_count": 4,
   "id": "a2e7fdd4",
   "metadata": {},
   "outputs": [],
   "source": [
    "android = list(reader(open(\"googleplaystore.csv\", encoding = \"utf-8\")))"
   ]
  },
  {
   "cell_type": "code",
   "execution_count": 5,
   "id": "3720f2aa",
   "metadata": {},
   "outputs": [
    {
     "data": {
      "text/plain": [
       "10842"
      ]
     },
     "execution_count": 5,
     "metadata": {},
     "output_type": "execute_result"
    }
   ],
   "source": [
    "len(android)"
   ]
  },
  {
   "cell_type": "code",
   "execution_count": 6,
   "id": "9f81dc8a",
   "metadata": {},
   "outputs": [],
   "source": [
    "android_header = android[0]\n",
    "android = android[1:]"
   ]
  },
  {
   "cell_type": "code",
   "execution_count": 7,
   "id": "dbd836f1",
   "metadata": {},
   "outputs": [
    {
     "data": {
      "text/plain": [
       "['App',\n",
       " 'Category',\n",
       " 'Rating',\n",
       " 'Reviews',\n",
       " 'Size',\n",
       " 'Installs',\n",
       " 'Type',\n",
       " 'Price',\n",
       " 'Content Rating',\n",
       " 'Genres',\n",
       " 'Last Updated',\n",
       " 'Current Ver',\n",
       " 'Android Ver']"
      ]
     },
     "execution_count": 7,
     "metadata": {},
     "output_type": "execute_result"
    }
   ],
   "source": [
    "android_header"
   ]
  },
  {
   "cell_type": "code",
   "execution_count": 8,
   "id": "c618560b",
   "metadata": {},
   "outputs": [],
   "source": [
    "unqiue_category = []\n",
    "\n",
    "for i in android:\n",
    "    if i[1] not in unqiue_category:\n",
    "        unqiue_category.append(i[1])"
   ]
  },
  {
   "cell_type": "code",
   "execution_count": 9,
   "id": "e1a415bc",
   "metadata": {},
   "outputs": [
    {
     "name": "stdout",
     "output_type": "stream",
     "text": [
      "['ART_AND_DESIGN', 'AUTO_AND_VEHICLES', 'BEAUTY', 'BOOKS_AND_REFERENCE', 'BUSINESS', 'COMICS', 'COMMUNICATION', 'DATING', 'EDUCATION', 'ENTERTAINMENT', 'EVENTS', 'FINANCE', 'FOOD_AND_DRINK', 'HEALTH_AND_FITNESS', 'HOUSE_AND_HOME', 'LIBRARIES_AND_DEMO', 'LIFESTYLE', 'GAME', 'FAMILY', 'MEDICAL', 'SOCIAL', 'SHOPPING', 'PHOTOGRAPHY', 'SPORTS', 'TRAVEL_AND_LOCAL', 'TOOLS', 'PERSONALIZATION', 'PRODUCTIVITY', 'PARENTING', 'WEATHER', 'VIDEO_PLAYERS', 'NEWS_AND_MAGAZINES', 'MAPS_AND_NAVIGATION', '1.9']\n"
     ]
    }
   ],
   "source": [
    "print(unqiue_category)"
   ]
  },
  {
   "cell_type": "code",
   "execution_count": 10,
   "id": "3a907261",
   "metadata": {},
   "outputs": [
    {
     "name": "stdout",
     "output_type": "stream",
     "text": [
      "['Life Made WI-Fi Touchscreen Photo Frame', '1.9', '19', '3.0M', '1,000+', 'Free', '0', 'Everyone', '', 'February 11, 2018', '1.0.19', '4.0 and up']\n"
     ]
    }
   ],
   "source": [
    "for i in android:\n",
    "    if i[1] == \"1.9\":\n",
    "        print(i)"
   ]
  },
  {
   "cell_type": "code",
   "execution_count": 11,
   "id": "949b5bee",
   "metadata": {},
   "outputs": [
    {
     "data": {
      "text/plain": [
       "10472"
      ]
     },
     "execution_count": 11,
     "metadata": {},
     "output_type": "execute_result"
    }
   ],
   "source": [
    "android.index(['Life Made WI-Fi Touchscreen Photo Frame', '1.9', '19', '3.0M', '1,000+', 'Free', '0', 'Everyone', '', 'February 11, 2018', '1.0.19', '4.0 and up'])"
   ]
  },
  {
   "cell_type": "code",
   "execution_count": 12,
   "id": "e3736ec4",
   "metadata": {},
   "outputs": [
    {
     "data": {
      "text/plain": [
       "['Life Made WI-Fi Touchscreen Photo Frame',\n",
       " '1.9',\n",
       " '19',\n",
       " '3.0M',\n",
       " '1,000+',\n",
       " 'Free',\n",
       " '0',\n",
       " 'Everyone',\n",
       " '',\n",
       " 'February 11, 2018',\n",
       " '1.0.19',\n",
       " '4.0 and up']"
      ]
     },
     "execution_count": 12,
     "metadata": {},
     "output_type": "execute_result"
    }
   ],
   "source": [
    "android[10472]"
   ]
  },
  {
   "cell_type": "code",
   "execution_count": 13,
   "id": "2f74664b",
   "metadata": {},
   "outputs": [
    {
     "name": "stdout",
     "output_type": "stream",
     "text": [
      "['App', 'Category', 'Rating', 'Reviews', 'Size', 'Installs', 'Type', 'Price', 'Content Rating', 'Genres', 'Last Updated', 'Current Ver', 'Android Ver']\n",
      "\n",
      "['Photo Editor & Candy Camera & Grid & ScrapBook', 'ART_AND_DESIGN', '4.1', '159', '19M', '10,000+', 'Free', '0', 'Everyone', 'Art & Design', 'January 7, 2018', '1.0.0', '4.0.3 and up']\n",
      "\n",
      "['Life Made WI-Fi Touchscreen Photo Frame', '1.9', '19', '3.0M', '1,000+', 'Free', '0', 'Everyone', '', 'February 11, 2018', '1.0.19', '4.0 and up']\n"
     ]
    }
   ],
   "source": [
    "print(android_header)\n",
    "print()\n",
    "print(android[0])\n",
    "print()\n",
    "print(android[10472])"
   ]
  },
  {
   "cell_type": "code",
   "execution_count": 14,
   "id": "4b720c0c",
   "metadata": {},
   "outputs": [
    {
     "name": "stdout",
     "output_type": "stream",
     "text": [
      "['App', 'Category', 'Rating', 'Reviews', 'Size', 'Installs', 'Type', 'Price', 'Content Rating', 'Genres', 'Last Updated', 'Current Ver', 'Android Ver']\n",
      "\n",
      "13\n",
      "\n",
      "12\n"
     ]
    }
   ],
   "source": [
    "print(android_header)\n",
    "print()\n",
    "print(len(android[0]))\n",
    "print()\n",
    "print(len(android[10472]))"
   ]
  },
  {
   "cell_type": "code",
   "execution_count": 15,
   "id": "fb148cd1",
   "metadata": {},
   "outputs": [
    {
     "data": {
      "text/plain": [
       "True"
      ]
     },
     "execution_count": 15,
     "metadata": {},
     "output_type": "execute_result"
    }
   ],
   "source": [
    "\"Lifestyle\".upper() in unqiue_category"
   ]
  },
  {
   "cell_type": "code",
   "execution_count": 16,
   "id": "b693eae8",
   "metadata": {},
   "outputs": [],
   "source": [
    "android[10472].insert(1, \"Lifestyle\".upper())"
   ]
  },
  {
   "cell_type": "code",
   "execution_count": 17,
   "id": "7b218b9b",
   "metadata": {},
   "outputs": [
    {
     "data": {
      "text/plain": [
       "['Life Made WI-Fi Touchscreen Photo Frame',\n",
       " 'LIFESTYLE',\n",
       " '1.9',\n",
       " '19',\n",
       " '3.0M',\n",
       " '1,000+',\n",
       " 'Free',\n",
       " '0',\n",
       " 'Everyone',\n",
       " '',\n",
       " 'February 11, 2018',\n",
       " '1.0.19',\n",
       " '4.0 and up']"
      ]
     },
     "execution_count": 17,
     "metadata": {},
     "output_type": "execute_result"
    }
   ],
   "source": [
    "android[10472]"
   ]
  },
  {
   "cell_type": "code",
   "execution_count": 18,
   "id": "2e71ea2c",
   "metadata": {},
   "outputs": [
    {
     "name": "stdout",
     "output_type": "stream",
     "text": [
      "['App', 'Category', 'Rating', 'Reviews', 'Size', 'Installs', 'Type', 'Price', 'Content Rating', 'Genres', 'Last Updated', 'Current Ver', 'Android Ver']\n",
      "\n",
      "['Photo Editor & Candy Camera & Grid & ScrapBook', 'ART_AND_DESIGN', '4.1', '159', '19M', '10,000+', 'Free', '0', 'Everyone', 'Art & Design', 'January 7, 2018', '1.0.0', '4.0.3 and up']\n",
      "\n",
      "['Life Made WI-Fi Touchscreen Photo Frame', 'LIFESTYLE', '1.9', '19', '3.0M', '1,000+', 'Free', '0', 'Everyone', '', 'February 11, 2018', '1.0.19', '4.0 and up']\n"
     ]
    }
   ],
   "source": [
    "print(android_header)\n",
    "print()\n",
    "print(android[0])\n",
    "print()\n",
    "print(android[10472])"
   ]
  },
  {
   "cell_type": "code",
   "execution_count": 19,
   "id": "76d64ca6",
   "metadata": {},
   "outputs": [],
   "source": [
    "unqiue_category = []\n",
    "\n",
    "for i in android:\n",
    "    if i[-4] not in unqiue_category:\n",
    "        unqiue_category.append(i[-4])"
   ]
  },
  {
   "cell_type": "code",
   "execution_count": 20,
   "id": "85dfeef5",
   "metadata": {},
   "outputs": [
    {
     "data": {
      "text/plain": [
       "['Art & Design',\n",
       " 'Art & Design;Pretend Play',\n",
       " 'Art & Design;Creativity',\n",
       " 'Art & Design;Action & Adventure',\n",
       " 'Auto & Vehicles',\n",
       " 'Beauty',\n",
       " 'Books & Reference',\n",
       " 'Business',\n",
       " 'Comics',\n",
       " 'Comics;Creativity',\n",
       " 'Communication',\n",
       " 'Dating',\n",
       " 'Education;Education',\n",
       " 'Education',\n",
       " 'Education;Creativity',\n",
       " 'Education;Music & Video',\n",
       " 'Education;Action & Adventure',\n",
       " 'Education;Pretend Play',\n",
       " 'Education;Brain Games',\n",
       " 'Entertainment',\n",
       " 'Entertainment;Music & Video',\n",
       " 'Entertainment;Brain Games',\n",
       " 'Entertainment;Creativity',\n",
       " 'Events',\n",
       " 'Finance',\n",
       " 'Food & Drink',\n",
       " 'Health & Fitness',\n",
       " 'House & Home',\n",
       " 'Libraries & Demo',\n",
       " 'Lifestyle',\n",
       " 'Lifestyle;Pretend Play',\n",
       " 'Adventure;Action & Adventure',\n",
       " 'Arcade',\n",
       " 'Casual',\n",
       " 'Card',\n",
       " 'Casual;Pretend Play',\n",
       " 'Action',\n",
       " 'Strategy',\n",
       " 'Puzzle',\n",
       " 'Sports',\n",
       " 'Music',\n",
       " 'Word',\n",
       " 'Racing',\n",
       " 'Casual;Creativity',\n",
       " 'Casual;Action & Adventure',\n",
       " 'Simulation',\n",
       " 'Adventure',\n",
       " 'Board',\n",
       " 'Trivia',\n",
       " 'Role Playing',\n",
       " 'Simulation;Education',\n",
       " 'Action;Action & Adventure',\n",
       " 'Casual;Brain Games',\n",
       " 'Simulation;Action & Adventure',\n",
       " 'Educational;Creativity',\n",
       " 'Puzzle;Brain Games',\n",
       " 'Educational;Education',\n",
       " 'Card;Brain Games',\n",
       " 'Educational;Brain Games',\n",
       " 'Educational;Pretend Play',\n",
       " 'Entertainment;Education',\n",
       " 'Casual;Education',\n",
       " 'Music;Music & Video',\n",
       " 'Racing;Action & Adventure',\n",
       " 'Arcade;Pretend Play',\n",
       " 'Role Playing;Action & Adventure',\n",
       " 'Simulation;Pretend Play',\n",
       " 'Puzzle;Creativity',\n",
       " 'Sports;Action & Adventure',\n",
       " 'Educational;Action & Adventure',\n",
       " 'Arcade;Action & Adventure',\n",
       " 'Entertainment;Action & Adventure',\n",
       " 'Puzzle;Action & Adventure',\n",
       " 'Strategy;Action & Adventure',\n",
       " 'Music & Audio;Music & Video',\n",
       " 'Health & Fitness;Education',\n",
       " 'Adventure;Education',\n",
       " 'Board;Brain Games',\n",
       " 'Board;Action & Adventure',\n",
       " 'Board;Pretend Play',\n",
       " 'Casual;Music & Video',\n",
       " 'Role Playing;Pretend Play',\n",
       " 'Entertainment;Pretend Play',\n",
       " 'Video Players & Editors;Creativity',\n",
       " 'Card;Action & Adventure',\n",
       " 'Medical',\n",
       " 'Social',\n",
       " 'Shopping',\n",
       " 'Photography',\n",
       " 'Travel & Local',\n",
       " 'Travel & Local;Action & Adventure',\n",
       " 'Tools',\n",
       " 'Tools;Education',\n",
       " 'Personalization',\n",
       " 'Productivity',\n",
       " 'Parenting',\n",
       " 'Parenting;Music & Video',\n",
       " 'Parenting;Education',\n",
       " 'Parenting;Brain Games',\n",
       " 'Weather',\n",
       " 'Video Players & Editors',\n",
       " 'Video Players & Editors;Music & Video',\n",
       " 'News & Magazines',\n",
       " 'Maps & Navigation',\n",
       " 'Health & Fitness;Action & Adventure',\n",
       " 'Educational',\n",
       " 'Casino',\n",
       " 'Adventure;Brain Games',\n",
       " 'Trivia;Education',\n",
       " 'Lifestyle;Education',\n",
       " 'Books & Reference;Creativity',\n",
       " 'Books & Reference;Education',\n",
       " 'Puzzle;Education',\n",
       " 'Role Playing;Education',\n",
       " 'Role Playing;Brain Games',\n",
       " 'Strategy;Education',\n",
       " 'Racing;Pretend Play',\n",
       " 'Communication;Creativity',\n",
       " '',\n",
       " 'Strategy;Creativity']"
      ]
     },
     "execution_count": 20,
     "metadata": {},
     "output_type": "execute_result"
    }
   ],
   "source": [
    "unqiue_category"
   ]
  },
  {
   "cell_type": "code",
   "execution_count": 21,
   "id": "4bc1dc3f",
   "metadata": {},
   "outputs": [],
   "source": [
    "android[10472][-4] = \"Lifestyle\""
   ]
  },
  {
   "cell_type": "code",
   "execution_count": 22,
   "id": "bc6e46dc",
   "metadata": {},
   "outputs": [
    {
     "name": "stdout",
     "output_type": "stream",
     "text": [
      "['App', 'Category', 'Rating', 'Reviews', 'Size', 'Installs', 'Type', 'Price', 'Content Rating', 'Genres', 'Last Updated', 'Current Ver', 'Android Ver']\n",
      "\n",
      "['Photo Editor & Candy Camera & Grid & ScrapBook', 'ART_AND_DESIGN', '4.1', '159', '19M', '10,000+', 'Free', '0', 'Everyone', 'Art & Design', 'January 7, 2018', '1.0.0', '4.0.3 and up']\n",
      "\n",
      "['Life Made WI-Fi Touchscreen Photo Frame', 'LIFESTYLE', '1.9', '19', '3.0M', '1,000+', 'Free', '0', 'Everyone', 'Lifestyle', 'February 11, 2018', '1.0.19', '4.0 and up']\n"
     ]
    }
   ],
   "source": [
    "print(android_header)\n",
    "print()\n",
    "print(android[0])\n",
    "print()\n",
    "print(android[10472])"
   ]
  },
  {
   "cell_type": "code",
   "execution_count": 23,
   "id": "c4c0b0bb",
   "metadata": {},
   "outputs": [
    {
     "name": "stdout",
     "output_type": "stream",
     "text": [
      "['Instagram', 'SOCIAL', '4.5', '66577313', 'Varies with device', '1,000,000,000+', 'Free', '0', 'Teen', 'Social', 'July 31, 2018', 'Varies with device', 'Varies with device']\n",
      "['Instagram', 'SOCIAL', '4.5', '66577446', 'Varies with device', '1,000,000,000+', 'Free', '0', 'Teen', 'Social', 'July 31, 2018', 'Varies with device', 'Varies with device']\n",
      "['Instagram', 'SOCIAL', '4.5', '66577313', 'Varies with device', '1,000,000,000+', 'Free', '0', 'Teen', 'Social', 'July 31, 2018', 'Varies with device', 'Varies with device']\n",
      "['Instagram', 'SOCIAL', '4.5', '66509917', 'Varies with device', '1,000,000,000+', 'Free', '0', 'Teen', 'Social', 'July 31, 2018', 'Varies with device', 'Varies with device']\n"
     ]
    }
   ],
   "source": [
    "for i in android:\n",
    "    if \"Instagram\" == i[0]:\n",
    "        print(i)"
   ]
  },
  {
   "cell_type": "markdown",
   "id": "4f562bde",
   "metadata": {},
   "source": [
    "# Removing Duplicates Apps"
   ]
  },
  {
   "cell_type": "code",
   "execution_count": 24,
   "id": "6e8ada1f",
   "metadata": {},
   "outputs": [],
   "source": [
    "duplicate_app = [] # [Instagram]\n",
    "unique_app = [] # [Instagram]\n",
    "\n",
    "for i in android:\n",
    "    app = i[0] # Instagram\n",
    "    if app in unique_app: # True\n",
    "        duplicate_app.append(app)\n",
    "    else:\n",
    "        unique_app.append(app)"
   ]
  },
  {
   "cell_type": "code",
   "execution_count": 25,
   "id": "054b40ad",
   "metadata": {},
   "outputs": [
    {
     "data": {
      "text/plain": [
       "9660"
      ]
     },
     "execution_count": 25,
     "metadata": {},
     "output_type": "execute_result"
    }
   ],
   "source": [
    "len(unique_app)"
   ]
  },
  {
   "cell_type": "code",
   "execution_count": 26,
   "id": "941ed8fd",
   "metadata": {},
   "outputs": [
    {
     "data": {
      "text/plain": [
       "1181"
      ]
     },
     "execution_count": 26,
     "metadata": {},
     "output_type": "execute_result"
    }
   ],
   "source": [
    "len(duplicate_app)"
   ]
  },
  {
   "cell_type": "code",
   "execution_count": 27,
   "id": "090cbc0a",
   "metadata": {},
   "outputs": [
    {
     "data": {
      "text/plain": [
       "10841"
      ]
     },
     "execution_count": 27,
     "metadata": {},
     "output_type": "execute_result"
    }
   ],
   "source": [
    "len(android)"
   ]
  },
  {
   "cell_type": "code",
   "execution_count": 28,
   "id": "028f9ce7",
   "metadata": {},
   "outputs": [
    {
     "name": "stdout",
     "output_type": "stream",
     "text": [
      "['Instagram', 'SOCIAL', '4.5', '66577313', 'Varies with device', '1,000,000,000+', 'Free', '0', 'Teen', 'Social', 'July 31, 2018', 'Varies with device', 'Varies with device']\n",
      "['Instagram', 'SOCIAL', '4.5', '66577446', 'Varies with device', '1,000,000,000+', 'Free', '0', 'Teen', 'Social', 'July 31, 2018', 'Varies with device', 'Varies with device']\n",
      "['Instagram', 'SOCIAL', '4.5', '66577313', 'Varies with device', '1,000,000,000+', 'Free', '0', 'Teen', 'Social', 'July 31, 2018', 'Varies with device', 'Varies with device']\n",
      "['Instagram', 'SOCIAL', '4.5', '66509917', 'Varies with device', '1,000,000,000+', 'Free', '0', 'Teen', 'Social', 'July 31, 2018', 'Varies with device', 'Varies with device']\n"
     ]
    }
   ],
   "source": [
    "for i in android:\n",
    "    if \"Instagram\" == i[0]:\n",
    "        print(i)"
   ]
  },
  {
   "cell_type": "code",
   "execution_count": 29,
   "id": "34eeae09",
   "metadata": {},
   "outputs": [],
   "source": [
    "reviews = {} # {\"Instagram\":66577446}\n",
    "\n",
    "for i in android:\n",
    "    app_name = i[0] # \"Instagram\"\n",
    "    n_reviews = int(i[3]) # 66577446\n",
    "    if app_name not in reviews: # False\n",
    "        reviews[app_name] = n_reviews\n",
    "    elif app_name in reviews and n_reviews > reviews[app_name]: # True \n",
    "        reviews[app_name] = n_reviews"
   ]
  },
  {
   "cell_type": "code",
   "execution_count": 30,
   "id": "03398e4e",
   "metadata": {},
   "outputs": [
    {
     "data": {
      "text/plain": [
       "66577446"
      ]
     },
     "execution_count": 30,
     "metadata": {},
     "output_type": "execute_result"
    }
   ],
   "source": [
    "reviews[\"Instagram\"]"
   ]
  },
  {
   "cell_type": "code",
   "execution_count": 31,
   "id": "c09b4b0a",
   "metadata": {},
   "outputs": [],
   "source": [
    "android_clean = []\n",
    "\n",
    "for i in android:\n",
    "    app_name = i[0] # Instagram\n",
    "    n_reviews = int(i[3]) # 66577446\n",
    "    if reviews[app_name] == n_reviews: # 66577446  == 66577446 : True\n",
    "        android_clean.append(i)"
   ]
  },
  {
   "cell_type": "code",
   "execution_count": 32,
   "id": "f6214cef",
   "metadata": {},
   "outputs": [
    {
     "data": {
      "text/plain": [
       "10055"
      ]
     },
     "execution_count": 32,
     "metadata": {},
     "output_type": "execute_result"
    }
   ],
   "source": [
    "len(android_clean)"
   ]
  },
  {
   "cell_type": "code",
   "execution_count": 33,
   "id": "0048a8ec",
   "metadata": {},
   "outputs": [
    {
     "name": "stdout",
     "output_type": "stream",
     "text": [
      "['Quick PDF Scanner + OCR FREE', 'BUSINESS', '4.2', '80805', 'Varies with device', '5,000,000+', 'Free', '0', 'Everyone', 'Business', 'February 26, 2018', 'Varies with device', '4.0.3 and up']\n",
      "['Quick PDF Scanner + OCR FREE', 'BUSINESS', '4.2', '80805', 'Varies with device', '5,000,000+', 'Free', '0', 'Everyone', 'Business', 'February 26, 2018', 'Varies with device', '4.0.3 and up']\n",
      "['Quick PDF Scanner + OCR FREE', 'BUSINESS', '4.2', '80804', 'Varies with device', '5,000,000+', 'Free', '0', 'Everyone', 'Business', 'February 26, 2018', 'Varies with device', '4.0.3 and up']\n"
     ]
    }
   ],
   "source": [
    "for i in android:\n",
    "    if duplicate_app[0] == i[0]:\n",
    "        print(i)"
   ]
  },
  {
   "cell_type": "code",
   "execution_count": 34,
   "id": "736822f6",
   "metadata": {},
   "outputs": [],
   "source": [
    "android_clean = []\n",
    "already_added = []\n",
    "\n",
    "for i in android:\n",
    "    app_name = i[0] # Instagram\n",
    "    n_reviews = int(i[3]) # 66577313\n",
    "    if reviews[app_name] == n_reviews and app_name not in already_added: \n",
    "        android_clean.append(i)\n",
    "        already_added.append(app_name)"
   ]
  },
  {
   "cell_type": "code",
   "execution_count": 35,
   "id": "fb0d9aff",
   "metadata": {},
   "outputs": [
    {
     "data": {
      "text/plain": [
       "9660"
      ]
     },
     "execution_count": 35,
     "metadata": {},
     "output_type": "execute_result"
    }
   ],
   "source": [
    "len(android_clean)"
   ]
  },
  {
   "cell_type": "code",
   "execution_count": 36,
   "id": "9f5b1ff0",
   "metadata": {},
   "outputs": [
    {
     "data": {
      "text/plain": [
       "'中国語 AQリスニング'"
      ]
     },
     "execution_count": 36,
     "metadata": {},
     "output_type": "execute_result"
    }
   ],
   "source": [
    "android_clean[4412][0]"
   ]
  },
  {
   "cell_type": "code",
   "execution_count": 37,
   "id": "b61b0272",
   "metadata": {},
   "outputs": [
    {
     "data": {
      "text/plain": [
       "65"
      ]
     },
     "execution_count": 37,
     "metadata": {},
     "output_type": "execute_result"
    }
   ],
   "source": [
    "ord(\"A\")"
   ]
  },
  {
   "cell_type": "code",
   "execution_count": 38,
   "id": "72488424",
   "metadata": {},
   "outputs": [
    {
     "data": {
      "text/plain": [
       "97"
      ]
     },
     "execution_count": 38,
     "metadata": {},
     "output_type": "execute_result"
    }
   ],
   "source": [
    "ord(\"a\")"
   ]
  },
  {
   "cell_type": "code",
   "execution_count": 39,
   "id": "bbb5fe59",
   "metadata": {},
   "outputs": [
    {
     "data": {
      "text/plain": [
       "'a'"
      ]
     },
     "execution_count": 39,
     "metadata": {},
     "output_type": "execute_result"
    }
   ],
   "source": [
    "chr(97)"
   ]
  },
  {
   "cell_type": "markdown",
   "id": "b90949f7",
   "metadata": {},
   "source": [
    "## How Set works\n"
   ]
  },
  {
   "cell_type": "code",
   "execution_count": 51,
   "id": "49b06f9a",
   "metadata": {},
   "outputs": [
    {
     "data": {
      "text/plain": [
       "['Anas', 'Omer', 'Salman']"
      ]
     },
     "execution_count": 51,
     "metadata": {},
     "output_type": "execute_result"
    }
   ],
   "source": [
    "Trainer = [\"Omer\",\"Salman\",\"Anas\",\"Anas\"]\n",
    "list(set(Trainer))"
   ]
  },
  {
   "cell_type": "code",
   "execution_count": 41,
   "id": "bbabb9e4",
   "metadata": {},
   "outputs": [],
   "source": [
    "def is_english(app_name):\n",
    "    lst = []\n",
    "    for i in app_name:\n",
    "        if ord(i) > 127:\n",
    "            lst.append(False)\n",
    "        else:\n",
    "            lst.append(True)\n",
    "    check = set(lst)\n",
    "    if False in check:\n",
    "        return False\n",
    "    else:\n",
    "        return True"
   ]
  },
  {
   "cell_type": "code",
   "execution_count": 42,
   "id": "70e951c6",
   "metadata": {},
   "outputs": [
    {
     "data": {
      "text/plain": [
       "True"
      ]
     },
     "execution_count": 42,
     "metadata": {},
     "output_type": "execute_result"
    }
   ],
   "source": [
    "is_english(\"Instagram\")"
   ]
  },
  {
   "cell_type": "code",
   "execution_count": 43,
   "id": "dfdb8ea2",
   "metadata": {},
   "outputs": [
    {
     "data": {
      "text/plain": [
       "False"
      ]
     },
     "execution_count": 43,
     "metadata": {},
     "output_type": "execute_result"
    }
   ],
   "source": [
    "is_english(\"Instagram😋\")"
   ]
  },
  {
   "cell_type": "markdown",
   "id": "021528f5",
   "metadata": {},
   "source": [
    "## Limit Only 3 Emojis"
   ]
  },
  {
   "cell_type": "code",
   "execution_count": 44,
   "id": "50aac106",
   "metadata": {},
   "outputs": [],
   "source": [
    "def is_english(app_name):\n",
    "    lst = []\n",
    "    for i in app_name:\n",
    "        if ord(i) > 127:\n",
    "            lst.append(False)\n",
    "        else:\n",
    "            lst.append(True)\n",
    "    \n",
    "    non_acsii = 0\n",
    "    for j in lst:\n",
    "        if j == False:\n",
    "            non_acsii += 1\n",
    "    \n",
    "    if non_acsii > 3:\n",
    "        return False\n",
    "    else:\n",
    "        return True"
   ]
  },
  {
   "cell_type": "code",
   "execution_count": 45,
   "id": "5ab03506",
   "metadata": {},
   "outputs": [
    {
     "data": {
      "text/plain": [
       "False"
      ]
     },
     "execution_count": 45,
     "metadata": {},
     "output_type": "execute_result"
    }
   ],
   "source": [
    "is_english(\"Instagram😋😋😋😋\")"
   ]
  },
  {
   "cell_type": "code",
   "execution_count": 46,
   "id": "77da2f2d",
   "metadata": {},
   "outputs": [
    {
     "data": {
      "text/plain": [
       "True"
      ]
     },
     "execution_count": 46,
     "metadata": {},
     "output_type": "execute_result"
    }
   ],
   "source": [
    "is_english(\"😋😋😋\")"
   ]
  },
  {
   "cell_type": "code",
   "execution_count": 47,
   "id": "e135adda",
   "metadata": {},
   "outputs": [],
   "source": [
    "andriod_english = []\n",
    "\n",
    "for i in android_clean:\n",
    "    app_name = i[0]\n",
    "    if is_english(app_name):\n",
    "        andriod_english.append(i)"
   ]
  },
  {
   "cell_type": "code",
   "execution_count": 48,
   "id": "f4167592",
   "metadata": {},
   "outputs": [
    {
     "data": {
      "text/plain": [
       "9615"
      ]
     },
     "execution_count": 48,
     "metadata": {},
     "output_type": "execute_result"
    }
   ],
   "source": [
    "len(andriod_english)"
   ]
  },
  {
   "cell_type": "code",
   "execution_count": null,
   "id": "924e814f",
   "metadata": {},
   "outputs": [],
   "source": []
  },
  {
   "cell_type": "code",
   "execution_count": null,
   "id": "3d96b542",
   "metadata": {},
   "outputs": [],
   "source": []
  },
  {
   "cell_type": "code",
   "execution_count": null,
   "id": "748cf75c",
   "metadata": {},
   "outputs": [],
   "source": []
  },
  {
   "cell_type": "code",
   "execution_count": null,
   "id": "2c82b45c",
   "metadata": {},
   "outputs": [],
   "source": []
  },
  {
   "cell_type": "code",
   "execution_count": null,
   "id": "eb031147",
   "metadata": {},
   "outputs": [],
   "source": []
  },
  {
   "cell_type": "code",
   "execution_count": null,
   "id": "4d9f1d9e",
   "metadata": {},
   "outputs": [],
   "source": []
  }
 ],
 "metadata": {
  "kernelspec": {
   "display_name": "Python 3 (ipykernel)",
   "language": "python",
   "name": "python3"
  },
  "language_info": {
   "codemirror_mode": {
    "name": "ipython",
    "version": 3
   },
   "file_extension": ".py",
   "mimetype": "text/x-python",
   "name": "python",
   "nbconvert_exporter": "python",
   "pygments_lexer": "ipython3",
   "version": "3.10.9"
  }
 },
 "nbformat": 4,
 "nbformat_minor": 5
}
